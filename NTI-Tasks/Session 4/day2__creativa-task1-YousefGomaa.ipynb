{
  "cells": [
    {
      "cell_type": "markdown",
      "metadata": {
        "id": "DBi6Ci1MnMBl"
      },
      "source": [
        "-# LAB 1: Matrix and Vector Computations in python\n",
        "In this lab you will use python to study the following topics:\n",
        "\n",
        "- How to create matrices and vectors in python.\n",
        "\n",
        "- How to manipulate matrices in python and create matrices of special types.\n",
        "\n",
        "- How to add matrices and multiply a vector by a matrix by python.\n",
        "\n",
        "- Solving System of Linear Equations Using Gaussian Elimination.\n",
        "\n",
        "- Matrix Multiplication using Different views."
      ]
    },
    {
      "cell_type": "markdown",
      "metadata": {
        "id": "9JfFDy0wnMBt"
      },
      "source": [
        "# First: you should run this cell"
      ]
    },
    {
      "cell_type": "code",
      "execution_count": 2,
      "metadata": {
        "id": "uklAV3c0nMBu"
      },
      "outputs": [],
      "source": [
        "# Make all numpy available via shorter 'np' prefix\n",
        "import numpy as np\n",
        "import sympy as sym\n",
        "import matplotlib.pyplot as plt"
      ]
    },
    {
      "cell_type": "markdown",
      "metadata": {
        "id": "T_D-vz2NnMBw"
      },
      "source": [
        "# Question 1 :Declaring scalars, vectors, and matrices\n",
        "\n",
        "a) Use [numpy.array](https://numpy.org/doc/stable/reference/generated/numpy.array.html) to declare the following:\n",
        "\n",
        "1. A scalar $s = 5$\n",
        "2. A vector $v = \\begin{bmatrix} 5  \\\\ -2 \\\\ 4  \\\\ \\end{bmatrix}$\n",
        "3. A matrix $A = \\begin{bmatrix} 1 & 2 & 3  \\\\ 4 & 5 & 6 \\\\ 7 & 8 & 9  \\\\ \\end{bmatrix}$\n",
        "4. A matrix $B = \\begin{bmatrix} 1 & 2 & 3  \\\\ 4 & 5 & 6 \\\\ \\end{bmatrix}$\n",
        "5. A matrix $C = \\begin{bmatrix} 1 & 2   \\\\ 3 & 4  \\\\ 5 & 6   \\\\ \\end{bmatrix}$"
      ]
    },
    {
      "cell_type": "code",
      "execution_count": 61,
      "metadata": {
        "id": "9rKVm4D1n7MY"
      },
      "outputs": [],
      "source": [
        "s = 2\n",
        "a = np.array([5,-2,4])\n",
        "b = np.array([3,0,1])\n",
        "scalar_multiplication = s*a\n",
        "addition = a+b\n",
        "subtraction = a-b\n",
        "dot_product = np.dot(a,b)\n",
        "dot_product2 = np.sum(a*b)\n",
        "dot_product3 = np.sqrt(np.sum(a**2))*np.sqrt(np.sum(b**2))*np.cos(np.arccos(np.dot(a,b)/(np.sqrt(np.sum(a**2))*np.sqrt(np.sum(b**2)))))\n",
        "dot_product4 = a@b"
      ]
    },
    {
      "cell_type": "code",
      "execution_count": 63,
      "metadata": {},
      "outputs": [
        {
          "name": "stdout",
          "output_type": "stream",
          "text": [
            "s:  2\n",
            "a:  [ 5 -2  4]\n",
            "b:  [3 0 1]\n",
            "a) Scalar multiplication:  [10 -4  8]\n",
            "b) Addition:  [ 8 -2  5]\n",
            "c) Subtraction:  [ 2 -2  3]\n",
            "d1) Dot product:  19\n",
            "d3) Dot product:  19.0\n",
            "d4 Dot product:  19\n"
          ]
        },
        {
          "data": {
            "image/png": "[encoded data removed]",
            "text/plain": [
              "<Figure size 640x480 with 1 Axes>"
            ]
          },
          "metadata": {},
          "output_type": "display_data"
        }
      ],
      "source": [
        "\n",
        "print(\"s: \", s)\n",
        "print(\"a: \", a)\n",
        "print(\"b: \", b)\n",
        "print(\"a) Scalar multiplication: \", scalar_multiplication)\n",
        "print(\"b) Addition: \", addition)\n",
        "print(\"c) Subtraction: \", subtraction)\n",
        "print(\"d1) Dot product: \", dot_product)\n",
        "print(\"d3) Dot product: \", dot_product3)\n",
        "print(\"d4 Dot product: \", dot_product4)\n",
        "\n",
        "fig = plt.figure()\n",
        "ax = fig.add_subplot(111)\n",
        "ax.quiver(0,0,b[0],b[1],angles='xy',scale_units='xy',scale=1,color='r')\n",
        "ax.quiver(0,0,scalar_multiplication[0],scalar_multiplication[1],angles='xy',scale_units='xy',scale=1,color='g')\n",
        "ax.quiver(0,0,a[0],a[1],angles='xy',scale_units='xy',scale=1,color='b')\n",
        "ax.quiver(0,0,addition[0],addition[1],angles='xy',scale_units='xy',scale=1,color='y')\n",
        "ax.quiver(0,0,subtraction[0],subtraction[1],angles='xy',scale_units='xy',scale=1,color='m')\n",
        "ax.set_xlim(0,15)\n",
        "ax.set_ylim(-5,5)\n",
        "fig.legend(['b','s*a','a','a+b','a-b'])\n",
        "plt.draw()\n",
        "plt.show()"
      ]
    },
    {
      "cell_type": "code",
      "execution_count": null,
      "metadata": {
        "id": "xtcX7QeCnMBx"
      },
      "outputs": [],
      "source": [
        "#type your code here:\n"
      ]
    },
    {
      "cell_type": "markdown",
      "metadata": {
        "id": "GWHyLILonMBy"
      },
      "source": [
        "b) Print the data type of $s, v,$ and $A$ using `type` command in python."
      ]
    },
    {
      "cell_type": "code",
      "execution_count": null,
      "metadata": {
        "id": "iR0oWauorgmj"
      },
      "outputs": [],
      "source": [
        "import numpy as np\n",
        "\n"
      ]
    },
    {
      "cell_type": "code",
      "execution_count": null,
      "metadata": {
        "id": "HleV2ODZnMBz",
        "outputId": "41c54381-993d-40a7-c93a-b699f7b3660d"
      },
      "outputs": [
        {
          "name": "stdout",
          "output_type": "stream",
          "text": [
            "type(s) = <class 'numpy.ndarray'>\n",
            "\n",
            "type(v) = <class 'numpy.ndarray'>\n",
            "\n",
            "type(A) = <class 'numpy.ndarray'>\n",
            "\n"
          ]
        }
      ],
      "source": [
        "#type your code here:\n"
      ]
    },
    {
      "cell_type": "code",
      "execution_count": null,
      "metadata": {
        "id": "HC9pWMEltfHD"
      },
      "outputs": [],
      "source": []
    },
    {
      "cell_type": "markdown",
      "metadata": {
        "id": "tCemUbgWnMB0"
      },
      "source": [
        "c) Using [numpy.shape](https://numpy.org/devdocs/reference/generated/numpy.shape.html) or `A.shape` print the shape of $s, v, A, B,$ and $C$."
      ]
    },
    {
      "cell_type": "code",
      "execution_count": null,
      "metadata": {
        "id": "JO9yeVNLtS3O"
      },
      "outputs": [],
      "source": [
        "import numpy as np\n",
        "\n",
        "\n"
      ]
    },
    {
      "cell_type": "code",
      "execution_count": null,
      "metadata": {
        "id": "ORRA7pnunMB1"
      },
      "outputs": [],
      "source": [
        "#type your code here:\n"
      ]
    },
    {
      "cell_type": "markdown",
      "metadata": {
        "id": "uvEuq8PbnMB2"
      },
      "source": [
        "d) To access a given entry in the `numpy array` put the `row number - 1` and `column number - 1` in square brackets following the array name. Ex `a32 = A[2, 1]`.\n",
        "- Print the value of the third row and the second column of the matrix $A$.\n",
        "- Change it to $10$.\n",
        "- Print the matrix A to check the entry is changed."
      ]
    },
    {
      "cell_type": "code",
      "execution_count": null,
      "metadata": {
        "colab": {
          "base_uri": "https://localhost:8080/"
        },
        "id": "4JU9uhzVwOMj",
        "outputId": "5a49b30b-705e-4e91-af11-783ff96a0b7b"
      },
      "outputs": [
        {
          "name": "stdout",
          "output_type": "stream",
          "text": [
            "a[2, 1] =  8\n",
            "a =   [[ 1  2  3]\n",
            " [ 4  5  6]\n",
            " [ 7 10  9]]\n"
          ]
        }
      ],
      "source": [
        "import numpy as np\n",
        "\n",
        "a = np.array([[1, 2, 3],\n",
        "              [4, 5, 6],\n",
        "              [7, 8, 9]])\n",
        "print(\"a[2, 1] = \", a[2, 1])\n",
        "a[2, 1] = 10\n",
        "\n",
        "\n",
        "print(\"a =  \",a)\n"
      ]
    },
    {
      "cell_type": "code",
      "execution_count": null,
      "metadata": {
        "id": "5EIObbflnMB2",
        "outputId": "644575da-b931-4529-c931-e397a457429c"
      },
      "outputs": [
        {
          "name": "stdout",
          "output_type": "stream",
          "text": [
            "A[2, 1] =  8\n",
            "\n",
            "A =\n",
            " [[ 1  2  3]\n",
            " [ 4  5  6]\n",
            " [ 7 10  9]]\n",
            "\n"
          ]
        }
      ],
      "source": [
        "#type your code here:\n"
      ]
    },
    {
      "cell_type": "markdown",
      "metadata": {
        "id": "F-BzyEjjnMB3"
      },
      "source": [
        "e)To access a whole row or column of a matrix, use the colon operator. For example, `A[:, [1]]` is the second column of A, while `B[[1], :]` is the second row of B."
      ]
    },
    {
      "cell_type": "code",
      "execution_count": null,
      "metadata": {
        "id": "kaqaJre9nMB3",
        "outputId": "bbab9595-1ab2-4d95-adf6-3a9cdbd9c078"
      },
      "outputs": [
        {
          "name": "stdout",
          "output_type": "stream",
          "text": [
            "A[:, [1]] =\n",
            " [[ 2]\n",
            " [ 5]\n",
            " [10]]\n",
            "\n",
            "B[[1], :] =\n",
            " [[4 5 6]]\n",
            "\n"
          ]
        }
      ],
      "source": [
        "#type your code here:\n"
      ]
    },
    {
      "cell_type": "markdown",
      "metadata": {
        "id": "dQy1iuyEnMB4"
      },
      "source": [
        "f) Type each of the following commands that generate special matrices:\n",
        "- `np.eye(4), np.zeros(3), np.zeros((3, 1)), np.zeros((3, 5)), np.ones((2, 3)), and np.diag([4, 5, 6, 7])`"
      ]
    },
    {
      "cell_type": "code",
      "execution_count": null,
      "metadata": {
        "id": "a_5zLBwlnMB4"
      },
      "outputs": [],
      "source": [
        "#type your code here:\n"
      ]
    },
    {
      "cell_type": "markdown",
      "metadata": {
        "id": "GOJAxfT9nMB5"
      },
      "source": [
        "# Question 2. Vectors Addition, Scaling, and dot product"
      ]
    },
    {
      "cell_type": "markdown",
      "metadata": {
        "id": "_6Lj4k7hnMB5"
      },
      "source": [
        "a) Declare vectors $v1 = \\begin{bmatrix} 1  \\\\ 2 \\\\ 7  \\\\ 4 \\\\ \\end{bmatrix}$ and $v2 = \\begin{bmatrix} 4  \\\\ 3 \\\\ 6  \\\\ 8 \\\\ \\end{bmatrix}$\n",
        "\n",
        "- Addition: $v1 + v2$\n",
        "- Subtraction: $v1 - v2$\n",
        "- Scaling by a number: $3 * v1$\n",
        "- Scaling by a number: $v1 / 2$"
      ]
    },
    {
      "cell_type": "code",
      "execution_count": null,
      "metadata": {
        "id": "BOScRdIKxFPb"
      },
      "outputs": [],
      "source": [
        "import numpy as np\n",
        "\n"
      ]
    },
    {
      "cell_type": "code",
      "execution_count": null,
      "metadata": {
        "id": "5QD6UCA-nMB6",
        "outputId": "93c01664-0f5e-4dcd-bded-ecf20694ce5f"
      },
      "outputs": [
        {
          "name": "stdout",
          "output_type": "stream",
          "text": [
            "v1 =\n",
            " [[1]\n",
            " [2]\n",
            " [7]\n",
            " [4]]\n",
            "\n",
            "v2 =\n",
            " [[4]\n",
            " [3]\n",
            " [6]\n",
            " [8]]\n",
            "\n",
            "v1 + v2 =\n",
            " [[ 5]\n",
            " [ 5]\n",
            " [13]\n",
            " [12]]\n",
            "\n",
            "v1 - v2 =\n",
            " [[-3]\n",
            " [-1]\n",
            " [ 1]\n",
            " [-4]]\n",
            "\n",
            "3*v1 =\n",
            " [[ 3]\n",
            " [ 6]\n",
            " [21]\n",
            " [12]]\n",
            "\n",
            "v1/2 =\n",
            " [[0.5]\n",
            " [1. ]\n",
            " [3.5]\n",
            " [2. ]]\n",
            "\n"
          ]
        }
      ],
      "source": [
        "#type your code here:\n"
      ]
    },
    {
      "cell_type": "markdown",
      "metadata": {
        "id": "uNucCSZxnMB6"
      },
      "source": [
        "b) Find the dot product between the two vectors $v1$ and $v2$ using the following:\n",
        "\n",
        "- [numpy.dot](https://numpy.org/doc/stable/reference/generated/numpy.dot.html)\n",
        "- [numpy.matmul](https://numpy.org/doc/stable/reference/generated/numpy.matmul.html#numpy.matmul)\n",
        "- `v1.T @ v2`"
      ]
    },
    {
      "cell_type": "code",
      "execution_count": null,
      "metadata": {
        "id": "SJG0Ghg5z-pH"
      },
      "outputs": [],
      "source": [
        "import numpy as np\n",
        "\n",
        "\n",
        "\n"
      ]
    },
    {
      "cell_type": "code",
      "execution_count": null,
      "metadata": {
        "id": "S3KYL4xVnMB7",
        "outputId": "e0f79620-8668-4c62-8858-30d3292495d2"
      },
      "outputs": [
        {
          "name": "stdout",
          "output_type": "stream",
          "text": [
            "Using numpy.dot =\n",
            " [[84]]\n",
            "\n",
            "Using numpy.matmul =\n",
            " [[84]]\n",
            "\n",
            "Using @ =\n",
            " [[84]]\n",
            "\n"
          ]
        }
      ],
      "source": [
        "#type your code here:\n"
      ]
    },
    {
      "cell_type": "markdown",
      "metadata": {
        "id": "gqi2-f-bnMB8"
      },
      "source": [
        "c) Find the length of the vectors $v1$ and $v2$.\n",
        "- Using [numpy.linalg.norm](https://numpy.org/doc/stable/reference/generated/numpy.linalg.norm.html)\n",
        "- Using the dot product and [numpy.sqrt](https://numpy.org/doc/stable/reference/generated/numpy.sqrt.html)\n"
      ]
    },
    {
      "cell_type": "code",
      "execution_count": null,
      "metadata": {
        "id": "Y5FchcTA3CfS"
      },
      "outputs": [],
      "source": [
        "# @title Default title text\n",
        "import numpy as np\n",
        "\n",
        "\n"
      ]
    },
    {
      "cell_type": "code",
      "execution_count": null,
      "metadata": {
        "id": "DwQAFQU7FAFW"
      },
      "outputs": [],
      "source": [
        "\n",
        "\n"
      ]
    },
    {
      "cell_type": "code",
      "execution_count": null,
      "metadata": {
        "id": "Q2DRInlZnMB8",
        "outputId": "2c8837c7-5db2-42e4-f530-0c237a6aa136"
      },
      "outputs": [
        {
          "name": "stdout",
          "output_type": "stream",
          "text": [
            "length of v1 Using numpy.linalg.norm =\n",
            " 8.366600265340756\n",
            "\n",
            "length of v2 Using numpy.linalg.norm =\n",
            " 11.180339887498949\n",
            "\n",
            "length of v1 Using the dot product and numpy.sqrt =\n",
            " [[8.36660027]]\n",
            "\n",
            "length of v2 Using the dot product and numpy.sqrt =\n",
            " [[11.18033989]]\n",
            "\n"
          ]
        }
      ],
      "source": [
        "#type your code here:\n"
      ]
    },
    {
      "cell_type": "markdown",
      "metadata": {
        "id": "G40Rk9AvnMB8"
      },
      "source": [
        "d) Show that the vectors $u = \\begin{bmatrix} 3  \\\\ 2 \\\\ -1  \\\\ 4 \\\\ \\end{bmatrix}$ and $v = \\begin{bmatrix} 1  \\\\ -1 \\\\ 1  \\\\ 0 \\\\ \\end{bmatrix}$ are orthogonal.\n"
      ]
    },
    {
      "cell_type": "code",
      "execution_count": null,
      "metadata": {
        "id": "97AvT37fnMB9",
        "outputId": "27f26096-e201-4c90-cb9d-da3fdf480617"
      },
      "outputs": [
        {
          "name": "stdout",
          "output_type": "stream",
          "text": [
            "u.T @ v =\n",
            " [[0]]\n",
            "\n"
          ]
        }
      ],
      "source": [
        "#type your code here:\n"
      ]
    },
    {
      "cell_type": "markdown",
      "metadata": {
        "id": "I7Bcz3jVnMB9"
      },
      "source": [
        "# Question 3. Matrix Addition and Matrix-Vector Multiplication\n",
        "\n",
        "Declare vectors $u$ and $v$ and matrices $A$ and $B$ as following:\n",
        "- $u = \\begin{bmatrix} 2  \\\\ 7 \\\\ 2 \\\\ \\end{bmatrix}$, $v = \\begin{bmatrix} 8  \\\\ 2 \\\\ 4 \\\\ \\end{bmatrix}$\n",
        "- $A = \\begin{bmatrix} 7 & 3 & 5  \\\\ 4 & 6 & 2 \\\\ \\end{bmatrix}$, $B = \\begin{bmatrix} 0 & 6 & 4  \\\\ 2 & 3 & 0 \\\\ \\end{bmatrix}$\n",
        "\n",
        "a) Calculate the following using python.\n",
        "\n",
        "- $A+B$\n",
        "- $B+A$\n",
        "- $3A$\n",
        "- $6B$\n",
        "- $2(3B)$\n",
        "- $6A+15B$\n",
        "- $3(2A+5B)$\n",
        "- $(3A^T)^T$"
      ]
    },
    {
      "cell_type": "code",
      "execution_count": null,
      "metadata": {
        "id": "gdKvvFNu5oQP"
      },
      "outputs": [],
      "source": [
        "import numpy as np\n",
        "\n",
        "\n"
      ]
    },
    {
      "cell_type": "code",
      "execution_count": null,
      "metadata": {
        "id": "IIdmZGTXnMB-",
        "outputId": "d16620f7-6335-4e2b-b765-dd6db9c06df1"
      },
      "outputs": [
        {
          "name": "stdout",
          "output_type": "stream",
          "text": [
            "u =\n",
            " [[2]\n",
            " [7]\n",
            " [2]]\n",
            "\n",
            "v =\n",
            " [[8]\n",
            " [2]\n",
            " [4]]\n",
            "\n",
            "A =\n",
            " [[7 3 5]\n",
            " [4 6 2]]\n",
            "\n",
            "B =\n",
            " [[0 6 4]\n",
            " [2 3 0]]\n",
            "\n",
            "A + B =\n",
            " [[7 9 9]\n",
            " [6 9 2]]\n",
            "\n",
            "B + A =\n",
            " [[7 9 9]\n",
            " [6 9 2]]\n",
            "\n",
            "3A =\n",
            " [[21  9 15]\n",
            " [12 18  6]]\n",
            "\n",
            "6B =\n",
            " [[ 0 36 24]\n",
            " [12 18  0]]\n",
            "\n",
            "2(3B) =\n",
            " [[ 0 36 24]\n",
            " [12 18  0]]\n",
            "\n",
            "6A + 15B =\n",
            " [[ 42 108  90]\n",
            " [ 54  81  12]]\n",
            "\n",
            "3(2A + 5B) =\n",
            " [[ 42 108  90]\n",
            " [ 54  81  12]]\n",
            "\n",
            "\n",
            " (3A^T)^T = \n",
            " [[21  9 15]\n",
            " [12 18  6]]\n"
          ]
        }
      ],
      "source": [
        "#type your code here:\n"
      ]
    },
    {
      "cell_type": "markdown",
      "metadata": {
        "id": "KjNHciNPnMB-"
      },
      "source": [
        "b) To obtain the matrix-vector product $Au$ using python, type `A @ u`. Calculate the following:\n",
        "\n",
        "- $Au+Av$\n",
        "- $A(u+v)$\n",
        "- $(A+B)u$\n",
        "- $Au+Bu$\n",
        "- $A(3u)$\n",
        "- $3A(u)$"
      ]
    },
    {
      "cell_type": "code",
      "execution_count": null,
      "metadata": {
        "id": "5EhqwOtx8L-M"
      },
      "outputs": [],
      "source": []
    },
    {
      "cell_type": "code",
      "execution_count": null,
      "metadata": {
        "id": "EO5LpHIxnMB-",
        "outputId": "c837d426-6e88-404e-fd73-bb89f7f4c621"
      },
      "outputs": [
        {
          "name": "stdout",
          "output_type": "stream",
          "text": [
            "Au + Av =\n",
            " [[127]\n",
            " [106]]\n",
            "\n",
            "A(u + v) =\n",
            " [[127]\n",
            " [106]]\n",
            "\n",
            "(A + B)u =\n",
            " [[95]\n",
            " [79]]\n",
            "\n",
            "Au + Bu =\n",
            " [[95]\n",
            " [79]]\n",
            "\n",
            "A(3u) =\n",
            " [[135]\n",
            " [162]]\n",
            "\n",
            "3A(u) =\n",
            " [[135]\n",
            " [162]]\n",
            "\n"
          ]
        }
      ],
      "source": [
        "#type your code here:\n"
      ]
    },
    {
      "cell_type": "markdown",
      "metadata": {
        "id": "ouVF7gCjnMB_"
      },
      "source": [
        "# Question 4. Gaussian Elimination and Reduced Row-Echelon Form"
      ]
    },
    {
      "cell_type": "markdown",
      "metadata": {
        "id": "9eU80SRRnMB_"
      },
      "source": [
        "You will see a step-by-step example of the row operations that transform a matrix $A$ into its reduced row echelon form $R = rref(A)$. In this demonstration, each pivot is chosen to be the largest in its column (for numerical stability), so extra row interchanges are used. Since $rref(A)$ is uniquely determined by $A$, this does not affect the final answer.\n",
        "\n",
        "The built in [rref](https://docs.sympy.org/latest/tutorial/matrices.html#rref) method `sympy.rref()` method just search for the method and its output to deal with the code."
      ]
    },
    {
      "cell_type": "markdown",
      "metadata": {
        "id": "YKkEiMuXnMB_"
      },
      "source": [
        "#### (a) Generate and display a $3 \\times 4$ matrix $A$ with random integer entries"
      ]
    },
    {
      "cell_type": "code",
      "execution_count": null,
      "metadata": {
        "id": "oJZMulfznMB_",
        "outputId": "d5ab2739-bbc8-42d3-f87b-0d0dc86f3874"
      },
      "outputs": [
        {
          "name": "stdout",
          "output_type": "stream",
          "text": [
            "\n",
            " A = \n",
            " [[8. 0. 4. 1.]\n",
            " [6. 6. 2. 7.]\n",
            " [0. 1. 6. 0.]]\n"
          ]
        }
      ],
      "source": [
        "#type your code here:\n",
        "A = np.fix((10*(np.random.rand(3,4))))\n",
        "print(\"\\n A = \\n\", A)"
      ]
    },
    {
      "cell_type": "markdown",
      "metadata": {
        "id": "sQ6lmz4knMCA"
      },
      "source": [
        "- To transform $A$ into $R = rref(A)$, start with $R = A$.\n",
        "- Normalize the first row of R to get R(1st row, 1st column) = 1\n",
        "\n",
        "    - `R = A`\n",
        "    - `R[0,:] = R[0, :] / R[0, 0]`\n",
        "\n",
        "(note the use of the colon to operate on whole rows of the matrix).\n",
        "\n",
        "<div class=\"alert alert-block alert-warning\">If your random matrix happens to have A(1, 1) = 0, then interchange rows to get a nonzero entry in the (1, 1) position before doing the calculation above.</div>\n",
        "\n",
        "- Now subtract a multiple of the first row of R from the second row to make R(2, 1) = 0:\n",
        "\n",
        "    - `R[1, :] = R[1, :] - R[1, 0] * R[0, :]`\n",
        "\n",
        "- Repeat this procedure to make R(3, 1) = 0:\n",
        "\n",
        "    - `R[2, :] = R[2, :] - R[2, 0] * R[0, :]`\n",
        "\n",
        "The first column of your matrix $R$ should now be the same as the first column of $rref(A)$."
      ]
    },
    {
      "cell_type": "code",
      "execution_count": null,
      "metadata": {
        "id": "OtMXuJ7VnMCB",
        "outputId": "915c5568-d19b-4b29-d55d-b2d4b340b873"
      },
      "outputs": [
        {
          "name": "stdout",
          "output_type": "stream",
          "text": [
            "\n",
            " R = \n",
            " [[ 1.     0.     0.5    0.125]\n",
            " [ 0.     6.    -1.     6.25 ]\n",
            " [ 0.     1.     6.     0.   ]]\n"
          ]
        }
      ],
      "source": [
        "#type your code here:\n"
      ]
    },
    {
      "cell_type": "markdown",
      "metadata": {
        "id": "gABjMeRHnMCB"
      },
      "source": [
        "#### (b)Operate on $R$ by the same method as in (a) to obtain the second column of $rref(A)$. First normalize row $2$ of $R$, then subtract multiples of row $2$ from rows $1$ and $3$ to put zeros in the (1, 2) and (3, 2) positions. Be sure to refer to the entries in your matrix symbolically as was done in part (a)"
      ]
    },
    {
      "cell_type": "code",
      "execution_count": null,
      "metadata": {
        "id": "a4luBBLknMCB",
        "outputId": "febae19a-c1c4-43f1-abef-0324e3dda9c6"
      },
      "outputs": [
        {
          "name": "stdout",
          "output_type": "stream",
          "text": [
            "\n",
            " R = \n",
            " [[ 1.          0.          0.5         0.125     ]\n",
            " [ 0.          1.         -0.16666667  1.04166667]\n",
            " [ 0.          0.          6.16666667 -1.04166667]]\n"
          ]
        }
      ],
      "source": [
        "#type your code here:\n"
      ]
    },
    {
      "cell_type": "markdown",
      "metadata": {
        "id": "iHHChqwenMCC"
      },
      "source": [
        "#### (c) Operate on $R$ by the same method as in (b) to obtain the third column of $rref(A)$. First normalize row $3$ of $R$, then subtract multiples of row $3$ from rows $1$ and $2$ to put zeros in the (1, 3) and (2, 3) positions."
      ]
    },
    {
      "cell_type": "code",
      "execution_count": null,
      "metadata": {
        "id": "6WLfuFNAnMCC",
        "outputId": "c4be43dc-d951-48a0-c690-4fd8da6c4819"
      },
      "outputs": [
        {
          "name": "stdout",
          "output_type": "stream",
          "text": [
            "\n",
            " R = \n",
            " [[ 1.          0.          0.          0.20945946]\n",
            " [ 0.          1.          0.          1.01351351]\n",
            " [ 0.          0.          1.         -0.16891892]]\n"
          ]
        }
      ],
      "source": [
        "#type your code here:\n",
        "\n"
      ]
    },
    {
      "cell_type": "markdown",
      "metadata": {
        "id": "6iFFFZ01nMCC"
      },
      "source": [
        "#### (d) Your matrix $R$ should now be transformed into $rref(A)$ (since $A$ is a random $3 \\times 4$ matrix, $rref(A)$ is (almost) sure to have rank (3) `np.linalg.matrix_rank(R)`. Check your answer by python with the rref method . If the answer is not the same as the current value of your $R$, go back and redo your calculations.\n",
        "\n",
        "- use the the built in rref method `sympy.rref()`\n",
        "- print the output matrix in numpy array type\n",
        "\n",
        "    - `M = sym.Matrix(A)`\n",
        "    - `M_rref = M.rref()`\n",
        "    - `R = np.array((M_rref[0])).astype(np.float64)`"
      ]
    },
    {
      "cell_type": "code",
      "execution_count": null,
      "metadata": {
        "id": "RjXvxw1AnMCK",
        "outputId": "31f3b5f8-297e-47a0-cd44-482c8e74e33b"
      },
      "outputs": [
        {
          "name": "stdout",
          "output_type": "stream",
          "text": [
            "\n",
            " rank = \n",
            " 3\n",
            "\n",
            " The Row echelon form of matrix M \n",
            " [[ 1.          0.          0.          0.20945946]\n",
            " [ 0.          1.          0.          1.01351351]\n",
            " [ 0.          0.          1.         -0.16891892]]\n"
          ]
        }
      ],
      "source": [
        "#type your code here:\n",
        "\n",
        "# Use sympy.rref() method\n"
      ]
    },
    {
      "cell_type": "markdown",
      "metadata": {
        "id": "q0God80EnMCL"
      },
      "source": [
        "# Question 5. Matrix Multiplication using Different views"
      ]
    },
    {
      "cell_type": "markdown",
      "metadata": {
        "id": "lqgqGAlNnMCL"
      },
      "source": [
        "we discussed in the lecture four different ways about product $AB = C$ where $A$ and $B$ are arbitry matrices. If $A$ is an $m \\times n$ matrix and $B$ is an $n \\times p$ matrix, then $C$ is an $m \\times p$ matrix:\n",
        "\n",
        "1. **Standard(row times column):** The standard way of describing a matrix product is to say that $c_(ij)$ equals the dot product of row $i$ of matrix $A$ and column $j$ of matrix $B$.\n",
        "\n",
        "2. **Columns:** The product of matrix $A$ and column $j$ of matrix $B$ equals column $j$ of matrix  $C$. This tells us that the columns of $C$ are combinations of columns of $A$.\n",
        "\n",
        "3. **Rows:** The product of row $i$ of matrix $A$ and matrix $B$ equals row $i$ of matrix $C$.So the rows of $C$ are combinations of rows of $B$.\n",
        "\n",
        "4. **Column times row**: A column of $A$ is an $m \\times 1$ vector and a row of $B$ is a $1 \\times p$ vector.Their product is a matrix."
      ]
    },
    {
      "cell_type": "markdown",
      "metadata": {
        "id": "gBjbFbDfnMCM"
      },
      "source": [
        "In this problem we will use python to perform the matrix multiplication using these different ways, and compute the execution time for each method time.\n",
        "\n",
        "(Write your code as a function that perform the multiplication for arbitrary size of the matrices $A$ and $B$)"
      ]
    },
    {
      "cell_type": "code",
      "execution_count": null,
      "metadata": {
        "id": "6XD0KXEmnMCM"
      },
      "outputs": [],
      "source": [
        "def check_dimension(A, B):\n",
        "    return A.shape[1] == B.shape[0]\n",
        "\n",
        "def mat_mul_standard(A, B):\n",
        "    if not check_dimension(A, B):\n",
        "        raise Exception('Dimensions aren\\'t consistant')\n",
        "\n",
        "    m, n = A.shape\n",
        "    n, p = B.shape\n",
        "\n",
        "    C = np.zeros((m, p))\n",
        "    ################type your code here#####################\n",
        "\n",
        "\n",
        "    ########################################################\n",
        "    return C\n",
        "\n",
        "\n",
        "def mat_mul_columns(A, B):\n",
        "    if not check_dimension(A, B):\n",
        "        raise Exception('Dimensions aren\\'t consistant')\n",
        "\n",
        "    m, n = A.shape\n",
        "    n, p = B.shape\n",
        "\n",
        "    C = np.zeros((m, p))\n",
        "    ################type your code here#####################\n",
        "\n",
        "\n",
        "    ########################################################\n",
        "    return C\n",
        "\n",
        "def mat_mul_rows(A, B):\n",
        "    if not check_dimension(A, B):\n",
        "        raise Exception('Dimensions aren\\'t consistant')\n",
        "\n",
        "    m, n = A.shape\n",
        "    n, p = B.shape\n",
        "\n",
        "    C = np.zeros((m, p))\n",
        "    ################type your code here#####################\n",
        "\n",
        "\n",
        "    ########################################################\n",
        "    return C\n",
        "\n",
        "\n",
        "\n",
        "def mat_mul_column_times_row(A, B):\n",
        "    if not check_dimension(A, B):\n",
        "        raise Exception('Dimensions aren\\'t consistant')\n",
        "\n",
        "    m, n = A.shape\n",
        "    n, p = B.shape\n",
        "\n",
        "    C = np.zeros((m, p))\n",
        "    ################type your code here#####################\n",
        "\n",
        "\n",
        "    ########################################################\n",
        "    return C"
      ]
    },
    {
      "cell_type": "code",
      "execution_count": null,
      "metadata": {
        "id": "Diug0Z3CnMCN"
      },
      "outputs": [],
      "source": [
        "#A = np.array([[12., 7., 3.],[4., 5., 6.],[7., 8., 9.]])\n",
        "#B = np.array([[5., 8., 1., 2.],[6., 7., 3., 0.],[4., 5., 9., 1.]])\n",
        "\n",
        "A = np.fix((10*(np.random.rand(300, 300))))\n",
        "B = np.fix((10*(np.random.rand(300, 300))))"
      ]
    },
    {
      "cell_type": "code",
      "execution_count": null,
      "metadata": {
        "id": "04Ir1jJOnMCN",
        "outputId": "c13fa5b2-3391-4304-e7fa-0fed45bceb32"
      },
      "outputs": [
        {
          "name": "stdout",
          "output_type": "stream",
          "text": [
            "A @ B = \n",
            " [[5799. 5873. 5658. ... 5684. 5842. 5506.]\n",
            " [6502. 6189. 6059. ... 6430. 6313. 6102.]\n",
            " [5899. 5845. 5866. ... 6014. 5828. 5749.]\n",
            " ...\n",
            " [5930. 5906. 5791. ... 5630. 5784. 5905.]\n",
            " [5937. 5785. 6013. ... 5898. 5942. 5690.]\n",
            " [5902. 5977. 6099. ... 5526. 5979. 5745.]]\n",
            "Wall time: 3.69 ms\n"
          ]
        }
      ],
      "source": [
        "%%time\n",
        "print('A @ B = \\n', A @ B)"
      ]
    },
    {
      "cell_type": "code",
      "execution_count": null,
      "metadata": {
        "id": "KIYHjCJ6nMCO",
        "outputId": "91389829-b920-4d66-e0bd-857907dbb8d2"
      },
      "outputs": [
        {
          "name": "stdout",
          "output_type": "stream",
          "text": [
            "C_standard = \n",
            " [[5799. 5873. 5658. ... 5684. 5842. 5506.]\n",
            " [6502. 6189. 6059. ... 6430. 6313. 6102.]\n",
            " [5899. 5845. 5866. ... 6014. 5828. 5749.]\n",
            " ...\n",
            " [5930. 5906. 5791. ... 5630. 5784. 5905.]\n",
            " [5937. 5785. 6013. ... 5898. 5942. 5690.]\n",
            " [5902. 5977. 6099. ... 5526. 5979. 5745.]]\n",
            "Wall time: 659 ms\n"
          ]
        }
      ],
      "source": [
        "%%time\n",
        "C_standard = mat_mul_standard(A, B)\n",
        "print('C_standard = \\n', C_standard)"
      ]
    },
    {
      "cell_type": "code",
      "execution_count": null,
      "metadata": {
        "id": "QCb6dwPEnMCO",
        "outputId": "3efb07a1-3cc4-4f4c-c8e0-df3098c27e65"
      },
      "outputs": [
        {
          "name": "stdout",
          "output_type": "stream",
          "text": [
            "C_columns = \n",
            " [[5799. 5873. 5658. ... 5684. 5842. 5506.]\n",
            " [6502. 6189. 6059. ... 6430. 6313. 6102.]\n",
            " [5899. 5845. 5866. ... 6014. 5828. 5749.]\n",
            " ...\n",
            " [5930. 5906. 5791. ... 5630. 5784. 5905.]\n",
            " [5937. 5785. 6013. ... 5898. 5942. 5690.]\n",
            " [5902. 5977. 6099. ... 5526. 5979. 5745.]]\n",
            "Wall time: 1.77 s\n"
          ]
        }
      ],
      "source": [
        "%%time\n",
        "C_columns = mat_mul_columns(A, B)\n",
        "print('C_columns = \\n', C_columns)"
      ]
    },
    {
      "cell_type": "code",
      "execution_count": null,
      "metadata": {
        "id": "fEbX9DN4nMCP",
        "outputId": "83f155a1-651e-419d-bd59-c5c6e7410e63"
      },
      "outputs": [
        {
          "name": "stdout",
          "output_type": "stream",
          "text": [
            "C_rows = \n",
            " [[5799. 5873. 5658. ... 5684. 5842. 5506.]\n",
            " [6502. 6189. 6059. ... 6430. 6313. 6102.]\n",
            " [5899. 5845. 5866. ... 6014. 5828. 5749.]\n",
            " ...\n",
            " [5930. 5906. 5791. ... 5630. 5784. 5905.]\n",
            " [5937. 5785. 6013. ... 5898. 5942. 5690.]\n",
            " [5902. 5977. 6099. ... 5526. 5979. 5745.]]\n",
            "Wall time: 1.91 s\n"
          ]
        }
      ],
      "source": [
        "%%time\n",
        "C_rows = mat_mul_rows(A, B)\n",
        "print('C_rows = \\n', C_rows)"
      ]
    },
    {
      "cell_type": "code",
      "execution_count": null,
      "metadata": {
        "id": "Nb7prgNunMCP",
        "outputId": "bd3413c6-9549-47da-bf2c-074fd67d3ea8"
      },
      "outputs": [
        {
          "name": "stdout",
          "output_type": "stream",
          "text": [
            "C_column_times_row = \n",
            " [[5799. 5873. 5658. ... 5684. 5842. 5506.]\n",
            " [6502. 6189. 6059. ... 6430. 6313. 6102.]\n",
            " [5899. 5845. 5866. ... 6014. 5828. 5749.]\n",
            " ...\n",
            " [5930. 5906. 5791. ... 5630. 5784. 5905.]\n",
            " [5937. 5785. 6013. ... 5898. 5942. 5690.]\n",
            " [5902. 5977. 6099. ... 5526. 5979. 5745.]]\n",
            "Wall time: 80 ms\n"
          ]
        }
      ],
      "source": [
        "%%time\n",
        "C_column_times_row = mat_mul_column_times_row(A, B)\n",
        "print('C_column_times_row = \\n', C_column_times_row)"
      ]
    }
  ],
  "metadata": {
    "colab": {
      "provenance": []
    },
    "kernelspec": {
      "display_name": "Python 3 (ipykernel)",
      "language": "python",
      "name": "python3"
    },
    "language_info": {
      "codemirror_mode": {
        "name": "ipython",
        "version": 3
      },
      "file_extension": ".py",
      "mimetype": "text/x-python",
      "name": "python",
      "nbconvert_exporter": "python",
      "pygments_lexer": "ipython3",
      "version": "3.12.4"
    }
  },
  "nbformat": 4,
  "nbformat_minor": 0
}
