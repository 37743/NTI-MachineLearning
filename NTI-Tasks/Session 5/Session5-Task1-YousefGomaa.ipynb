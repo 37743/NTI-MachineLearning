{
 "cells": [
  {
   "cell_type": "code",
   "execution_count": 5,
   "metadata": {},
   "outputs": [],
   "source": [
    "import pandas as pd"
   ]
  },
  {
   "cell_type": "code",
   "execution_count": 9,
   "metadata": {},
   "outputs": [
    {
     "name": "stdout",
     "output_type": "stream",
     "text": [
      "'A' Mean: 5.0\n",
      "'B' Mean: 7.571428571428571\n",
      "'A' Median: 5.0\n",
      "'B' Median: 8.0\n",
      "'A' Mode: 0    5\n",
      "Name: A, dtype: int64\n",
      "'B' Mode: 0    9\n",
      "Name: B, dtype: int64\n"
     ]
    }
   ],
   "source": [
    "df = pd.DataFrame({'A': [1, 5, 6, 7, 5, 6, 5], 'B': [4, 6, 9, 9, 8, 9, 8]})\n",
    "# Mean\n",
    "print(\"\\'A\\' Mean:\", df['A'].mean())\n",
    "print(\"\\'B\\' Mean:\", df['B'].mean())\n",
    "\n",
    "# Median\n",
    "print(\"\\'A\\' Median:\", df['A'].median())\n",
    "print(\"\\'B\\' Median:\", df['B'].median())\n",
    "\n",
    "# Mode\n",
    "print(\"\\'A\\' Mode:\", df['A'].mode())\n",
    "print(\"\\'B\\' Mode:\", df['B'].mode())"
   ]
  },
  {
   "cell_type": "code",
   "execution_count": 47,
   "metadata": {},
   "outputs": [
    {
     "name": "stdout",
     "output_type": "stream",
     "text": [
      "\n",
      "From Scratch:\n",
      "\n",
      "'A' Mean: 5.0\n",
      "'B' Mean: 7.571428571428571\n",
      "'A' Median: 5\n",
      "'B' Median: 8\n",
      "'A' Mode: 5\n",
      "'B' Mode: 9\n"
     ]
    }
   ],
   "source": [
    "# From Scratch\n",
    "# Mean\n",
    "mean_a =  sum(df['A']) / len(df['A'])\n",
    "mean_b =  sum(df['B']) / len(df['B'])\n",
    "\n",
    "# Median\n",
    "median_a = sorted(df['A'])[len(df['A']) // 2] if len(df['A'])%2 != 0 else (sorted(df['A'])[len(df['A']) // 2]+sorted(df['A'])[(len(df['A']) // 2)+1])/2\n",
    "median_b = sorted(df['B'])[len(df['B']) // 2] if len(df['B'])%2 != 0 else (sorted(df['B'])[len(df['B']) // 2]+sorted(df['B'])[(len(df['B']) // 2)+1])/2\n",
    "\n",
    "# Mode\n",
    "mode_a = pd.DataFrame(df['A'].value_counts()).index[0]\n",
    "mode_b = pd.DataFrame(df['B'].value_counts()).index[0]\n",
    "print(\"\\nFrom Scratch:\\n\")\n",
    "print(\"\\'A\\' Mean:\", mean_a)\n",
    "print(\"\\'B\\' Mean:\", mean_b)\n",
    "print(\"\\'A\\' Median:\", median_a)\n",
    "print(\"\\'B\\' Median:\", median_b)\n",
    "print(\"\\'A\\' Mode:\", mode_a)\n",
    "print(\"\\'B\\' Mode:\", mode_b)"
   ]
  }
 ],
 "metadata": {
  "kernelspec": {
   "display_name": "Python 3",
   "language": "python",
   "name": "python3"
  },
  "language_info": {
   "codemirror_mode": {
    "name": "ipython",
    "version": 3
   },
   "file_extension": ".py",
   "mimetype": "text/x-python",
   "name": "python",
   "nbconvert_exporter": "python",
   "pygments_lexer": "ipython3",
   "version": "3.12.4"
  }
 },
 "nbformat": 4,
 "nbformat_minor": 2
}
