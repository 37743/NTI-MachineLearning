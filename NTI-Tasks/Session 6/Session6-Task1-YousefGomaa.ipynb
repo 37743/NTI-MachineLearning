{
 "cells": [
  {
   "cell_type": "code",
   "execution_count": 1,
   "metadata": {},
   "outputs": [],
   "source": [
    "import matplotlib.pyplot as plt\n",
    "import numpy as np"
   ]
  },
  {
   "cell_type": "code",
   "execution_count": 8,
   "metadata": {},
   "outputs": [
    {
     "name": "stdout",
     "output_type": "stream",
     "text": [
      "Interquartile Range: 6.0\n",
      "Median: 55\n",
      "First Quartile: 52.0 OR 52\n",
      "Third Quartile: 58.0 OR 58\n",
      "Minimum: 43.0\n",
      "Maximum: 67.0\n"
     ]
    },
    {
     "data": {
      "text/plain": [
       "{'whiskers': [<matplotlib.lines.Line2D at 0x1d3bedc9550>,\n",
       "  <matplotlib.lines.Line2D at 0x1d3bedc97f0>],\n",
       " 'caps': [<matplotlib.lines.Line2D at 0x1d3bedc9a90>,\n",
       "  <matplotlib.lines.Line2D at 0x1d3bedc9d90>],\n",
       " 'boxes': [<matplotlib.lines.Line2D at 0x1d3bedc92e0>],\n",
       " 'medians': [<matplotlib.lines.Line2D at 0x1d3bedca090>],\n",
       " 'fliers': [<matplotlib.lines.Line2D at 0x1d3bedca360>],\n",
       " 'means': []}"
      ]
     },
     "execution_count": 8,
     "metadata": {},
     "output_type": "execute_result"
    },
    {
     "data": {
      "image/png": "[encoded data removed]",
      "text/plain": [
       "<Figure size 640x480 with 1 Axes>"
      ]
     },
     "metadata": {},
     "output_type": "display_data"
    }
   ],
   "source": [
    "x = np.array([45,47,52,53,55,56,58,62,80])\n",
    "x = np.sort(x)\n",
    "\n",
    "q1 = np.percentile(x, 25)\n",
    "q3 = np.percentile(x, 75)\n",
    "iqr = q3 - q1\n",
    "print(\"Interquartile Range:\", iqr)\n",
    "print(\"Median:\",x[len(x)//2])\n",
    "print(\"First Quartile:\", q1, \"OR\", x[len(x)//4])\n",
    "print(\"Third Quartile:\", q3, \"OR\", x[len(x)//4*3])\n",
    "print(\"Minimum:\", q1-1.5*iqr)\n",
    "print(\"Maximum:\", q3+1.5*iqr)\n",
    "\n",
    "plt.boxplot(x)"
   ]
  }
 ],
 "metadata": {
  "kernelspec": {
   "display_name": "Python 3",
   "language": "python",
   "name": "python3"
  },
  "language_info": {
   "codemirror_mode": {
    "name": "ipython",
    "version": 3
   },
   "file_extension": ".py",
   "mimetype": "text/x-python",
   "name": "python",
   "nbconvert_exporter": "python",
   "pygments_lexer": "ipython3",
   "version": "3.12.4"
  }
 },
 "nbformat": 4,
 "nbformat_minor": 2
}
